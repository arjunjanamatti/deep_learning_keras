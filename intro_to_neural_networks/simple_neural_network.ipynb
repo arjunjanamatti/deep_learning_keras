{
 "cells": [
  {
   "cell_type": "code",
   "execution_count": 113,
   "metadata": {
    "ExecuteTime": {
     "end_time": "2020-06-18T12:36:41.028501Z",
     "start_time": "2020-06-18T12:36:41.025501Z"
    }
   },
   "outputs": [],
   "source": [
    "import numpy as np\n",
    "import pandas as pd\n",
    "import matplotlib.pyplot as plt\n",
    "from keras.datasets import mnist\n",
    "import keras"
   ]
  },
  {
   "cell_type": "markdown",
   "metadata": {
    "ExecuteTime": {
     "end_time": "2020-06-18T09:26:37.735478Z",
     "start_time": "2020-06-18T09:26:37.467451Z"
    }
   },
   "source": [
    "* mnist dataset is already devided into 4 datasets, namely training images, training labels, test image and test labels"
   ]
  },
  {
   "cell_type": "code",
   "execution_count": 114,
   "metadata": {
    "ExecuteTime": {
     "end_time": "2020-06-18T12:36:42.315477Z",
     "start_time": "2020-06-18T12:36:42.059453Z"
    }
   },
   "outputs": [
    {
     "name": "stdout",
     "output_type": "stream",
     "text": [
      "Shape of training data set:  (60000, 28, 28) (60000,)\n",
      "\n",
      "Shape of testing data set:  (10000, 28, 28) (10000,)\n",
      "\n",
      "Ratio of test size:  0.17\n",
      "\n",
      "Number of input features:  784\n",
      "\n",
      "Number of unique labels:  10\n"
     ]
    }
   ],
   "source": [
    "(X_train_0,y_train_0),(X_test_0,y_test_0) = mnist.load_data()\n",
    "print(\"Shape of training data set: \", X_train_0.shape, y_train_0.shape)\n",
    "print()\n",
    "print(\"Shape of testing data set: \", X_test_0.shape, y_test_0.shape)\n",
    "print()\n",
    "print(\"Ratio of test size: \", round((len(X_test_0) / len(X_train_0)),2))\n",
    "\n",
    "number_of_features = X_train_0[0].shape[0] * X_train_0[0].shape[1]\n",
    "unique_labels = len(np.unique(y_train_0))\n",
    "\n",
    "print()\n",
    "print(\"Number of input features: \", number_of_features)\n",
    "print()\n",
    "print(\"Number of unique labels: \", unique_labels)"
   ]
  },
  {
   "cell_type": "code",
   "execution_count": 115,
   "metadata": {
    "ExecuteTime": {
     "end_time": "2020-06-18T12:36:42.507639Z",
     "start_time": "2020-06-18T12:36:42.503650Z"
    }
   },
   "outputs": [
    {
     "name": "stdout",
     "output_type": "stream",
     "text": [
      "60000 (28, 28)\n"
     ]
    }
   ],
   "source": [
    "# Training images is a list of 60,000 2D lists.\n",
    "# Each 2D list is 28 by 28—the size of the MNIST pixel data.\n",
    "# Each item in the 2D array is an integer from 0 to 255 representing its grayscale\n",
    "# intensity where 0 means white, 255 means black.\n",
    "print(len(X_train_0), X_train_0[0].shape)"
   ]
  },
  {
   "cell_type": "markdown",
   "metadata": {},
   "source": [
    "* Unique labels for the dataset"
   ]
  },
  {
   "cell_type": "code",
   "execution_count": 116,
   "metadata": {
    "ExecuteTime": {
     "end_time": "2020-06-18T12:36:43.462084Z",
     "start_time": "2020-06-18T12:36:43.455086Z"
    }
   },
   "outputs": [
    {
     "data": {
      "text/plain": [
       "array([0, 1, 2, 3, 4, 5, 6, 7, 8, 9], dtype=uint8)"
      ]
     },
     "execution_count": 116,
     "metadata": {},
     "output_type": "execute_result"
    }
   ],
   "source": [
    "np.unique(y_train_0)"
   ]
  },
  {
   "cell_type": "code",
   "execution_count": 117,
   "metadata": {
    "ExecuteTime": {
     "end_time": "2020-06-18T12:36:45.344522Z",
     "start_time": "2020-06-18T12:36:44.027519Z"
    }
   },
   "outputs": [
    {
     "data": {
      "image/png": "[encoded data removed]",
      "text/plain": [
       "<Figure size 432x288 with 50 Axes>"
      ]
     },
     "metadata": {
      "needs_background": "light"
     },
     "output_type": "display_data"
    }
   ],
   "source": [
    "for i in range(50):\n",
    "    ax = plt.subplot(10,10,i+1)\n",
    "    ax.axis('off')\n",
    "    plt.imshow(X_train_0[i], cmap='Greys')"
   ]
  },
  {
   "cell_type": "markdown",
   "metadata": {},
   "source": [
    "### Problems With This Data\n",
    "\n",
    "1. There are (at least) two problems with this data as it is currently formatted:\n",
    "\n",
    "    * The input data is formatted as a 2D array, but our deep neural network needs to data as a 1D vector.\n",
    "    * This is because of how deep neural networks are constructed, it is simply not possible to send anything but a vector as input.\n",
    "    * These vectors can be/represent anything, but from the computer's perspective they must be a 1D vector.\n",
    "\n",
    "2. Our labels are numbers, but we're not performing regression. We need to use a 1-hot vector encoding for our labels.\n",
    "    * This is important because if we use the number values we would be training our network to think of these values as continuous.\n",
    "    * If the digit is supposed to be a 2, guessing 1 and guessing 9 are both equally wrong.\n",
    "    * Training the network with numbers would imply that a prediction of 1 would be \"less wrong\" than a prediction of 9, when in fact both are equally wrong.\n",
    "\n"
   ]
  },
  {
   "cell_type": "code",
   "execution_count": 118,
   "metadata": {
    "ExecuteTime": {
     "end_time": "2020-06-18T12:36:45.394525Z",
     "start_time": "2020-06-18T12:36:45.383523Z"
    }
   },
   "outputs": [
    {
     "name": "stdout",
     "output_type": "stream",
     "text": [
      "Before reshape, the shape of training images:  (60000, 784)\n",
      "\n",
      "After reshape, the shape of training images:  (60000, 784)\n"
     ]
    }
   ],
   "source": [
    "print(\"Before reshape, the shape of training images: \", X_train.shape)\n",
    "# In the images, there are 6000 of 28x28 matrices, now in order to change it to vector, we will make 28x28 matrix to a single vector of (28*28) rows\n",
    "X_train = X_train_0.reshape(len(X_train_0), number_of_features)\n",
    "X_test = X_test_0.reshape(len(X_test_0), number_of_features)\n",
    "print()\n",
    "print(\"After reshape, the shape of training images: \", X_train.shape)"
   ]
  },
  {
   "cell_type": "code",
   "execution_count": 125,
   "metadata": {
    "ExecuteTime": {
     "end_time": "2020-06-18T12:38:31.935153Z",
     "start_time": "2020-06-18T12:38:31.928155Z"
    }
   },
   "outputs": [],
   "source": [
    "# Create 1-hot encoded vectors using to_categorical\n",
    "\n",
    "y_train = keras.utils.to_categorical(y_train_0, num_classes = unique_labels )\n",
    "y_test = keras.utils.to_categorical(y_test_0, num_classes = unique_labels )\n"
   ]
  },
  {
   "cell_type": "markdown",
   "metadata": {},
   "source": [
    "### Neural Network\n",
    "\n",
    "This neural network will have three layers; input layer, hidden layer, output layer. This data has 784 columns or features, hence input layer will have 784 features, and there are 10 possible unique outputs, hence will have 10 nodes at the output. The hidden layer number of neurons is our choice, for a start, we will choose 30 neurons in hidden layer."
   ]
  },
  {
   "cell_type": "code",
   "execution_count": 126,
   "metadata": {
    "ExecuteTime": {
     "end_time": "2020-06-18T12:38:33.145997Z",
     "start_time": "2020-06-18T12:38:33.141995Z"
    }
   },
   "outputs": [],
   "source": [
    "# Libraries for neural network creation.\n",
    "# sequence is required to create a series of layers\n",
    "# for adding hidden layers, we need Dense\n",
    "from keras.models import Sequential\n",
    "from keras.layers import Dense"
   ]
  },
  {
   "cell_type": "code",
   "execution_count": 127,
   "metadata": {
    "ExecuteTime": {
     "end_time": "2020-06-18T12:38:34.084762Z",
     "start_time": "2020-06-18T12:38:34.050690Z"
    }
   },
   "outputs": [
    {
     "name": "stdout",
     "output_type": "stream",
     "text": [
      "Model: \"sequential_10\"\n",
      "_________________________________________________________________\n",
      "Layer (type)                 Output Shape              Param #   \n",
      "=================================================================\n",
      "dense_11 (Dense)             (None, 30)                23550     \n",
      "_________________________________________________________________\n",
      "dense_12 (Dense)             (None, 10)                310       \n",
      "=================================================================\n",
      "Total params: 23,860\n",
      "Trainable params: 23,860\n",
      "Non-trainable params: 0\n",
      "_________________________________________________________________\n"
     ]
    }
   ],
   "source": [
    "model = Sequential()\n",
    "\n",
    "# The first layer must specify it's input_shape.\n",
    "# This is how the first two layers are added, the input layer and the hidden layer.\n",
    "model.add(Dense(units = 30, \n",
    "               activation = 'sigmoid',\n",
    "               input_shape=(number_of_features,)))\n",
    "\n",
    "# This is how the output layer gets added, the 'softmax' activation function ensures\n",
    "# that the sum of the values in the output nodes is 1. Softmax is very\n",
    "# common in classification networks. \n",
    "model.add(Dense(units = unique_labels,\n",
    "               activation='softmax'))\n",
    "\n",
    "model.summary()"
   ]
  },
  {
   "cell_type": "code",
   "execution_count": 128,
   "metadata": {
    "ExecuteTime": {
     "end_time": "2020-06-18T12:38:35.077744Z",
     "start_time": "2020-06-18T12:38:35.072828Z"
    }
   },
   "outputs": [
    {
     "data": {
      "text/plain": [
       "784"
      ]
     },
     "execution_count": 128,
     "metadata": {},
     "output_type": "execute_result"
    }
   ],
   "source": [
    "X_train.shape[1]"
   ]
  },
  {
   "cell_type": "markdown",
   "metadata": {},
   "source": [
    "\n",
    "## Compiling and Training a Model¶\n",
    "\n",
    "Our model must be compiled and trained before it can make useful predictions. Models are trainined with the training data and training labels. During this process Keras will use an optimizer, loss function, metrics of our chosing to repeatedly make predictions and recieve corrections. The loss function is used to train the model, the metrics are only used for human evaluation of the model during and after training.\n",
    "\n",
    "Training happens in a series of epochs which are divided into a series of rounds. Each round the network will recieve batch_size samples from the training data, make predictions, and recieve one correction based on the errors in those predictions. In a single epoch, the model will look at every item in the training set exactly once, which means individual data points are sampled from the training data without replacement during each round of each epoch.\n",
    "\n",
    "During training, the training data itself will be broken into two parts according to the validation_split parameter. The proportion that you specify will be left out of the training process, and used to evaluate the accuracy of the model. This is done to preserve the test data, while still having a set of data left out in order to test against — and hopefully prevent — overfitting. At the end of each epoch, predictions will be made for all the items in the validation set, but those predictions won't adjust the weights in the model. Instead, if the accuracy of the predictions in the validation set stops improving then training will stop early, even if accuracy in the training set is improving.\n"
   ]
  },
  {
   "cell_type": "code",
   "execution_count": 129,
   "metadata": {
    "ExecuteTime": {
     "end_time": "2020-06-18T12:38:36.458873Z",
     "start_time": "2020-06-18T12:38:36.394782Z"
    }
   },
   "outputs": [],
   "source": [
    "# categorical_crossentropy is a common loss function used for categorical classification.\n",
    "# accuracy is the percent of predictions that were correct.\n",
    "model.compile(optimizer='sgd',\n",
    "              loss='categorical_crossentropy',\n",
    "              metrics=['accuracy'])\n"
   ]
  },
  {
   "cell_type": "code",
   "execution_count": 130,
   "metadata": {
    "ExecuteTime": {
     "end_time": "2020-06-18T12:38:44.971306Z",
     "start_time": "2020-06-18T12:38:37.880068Z"
    }
   },
   "outputs": [
    {
     "name": "stdout",
     "output_type": "stream",
     "text": [
      "Train on 54000 samples, validate on 6000 samples\n",
      "Epoch 1/10\n",
      " - 1s - loss: 1.3105 - accuracy: 0.6623 - val_loss: 0.8782 - val_accuracy: 0.8377\n",
      "Epoch 2/10\n",
      " - 1s - loss: 0.8171 - accuracy: 0.8281 - val_loss: 0.6651 - val_accuracy: 0.8713\n",
      "Epoch 3/10\n",
      " - 1s - loss: 0.6572 - accuracy: 0.8571 - val_loss: 0.5352 - val_accuracy: 0.8958\n",
      "Epoch 4/10\n",
      " - 1s - loss: 0.5680 - accuracy: 0.8688 - val_loss: 0.4630 - val_accuracy: 0.9008\n",
      "Epoch 5/10\n",
      " - 1s - loss: 0.5071 - accuracy: 0.8794 - val_loss: 0.4228 - val_accuracy: 0.9060\n",
      "Epoch 6/10\n",
      " - 1s - loss: 0.4684 - accuracy: 0.8848 - val_loss: 0.3806 - val_accuracy: 0.9135\n",
      "Epoch 7/10\n",
      " - 1s - loss: 0.4435 - accuracy: 0.8900 - val_loss: 0.3763 - val_accuracy: 0.9120\n",
      "Epoch 8/10\n",
      " - 1s - loss: 0.4212 - accuracy: 0.8925 - val_loss: 0.3567 - val_accuracy: 0.9107\n",
      "Epoch 9/10\n",
      " - 1s - loss: 0.4026 - accuracy: 0.8959 - val_loss: 0.3301 - val_accuracy: 0.9188\n",
      "Epoch 10/10\n",
      " - 1s - loss: 0.3915 - accuracy: 0.8972 - val_loss: 0.3294 - val_accuracy: 0.9170\n"
     ]
    }
   ],
   "source": [
    "history = model.fit(x = X_train,\n",
    "                    y = y_train,\n",
    "                    verbose=2,\n",
    "                    batch_size=100,\n",
    "                   epochs=10,\n",
    "                   validation_split=0.10)"
   ]
  },
  {
   "cell_type": "markdown",
   "metadata": {},
   "source": [
    "## Evaluating Our Model\n",
    "\n",
    "Now that we've trained our model, we want to evaluate its performance. We're using the \"test data\" here although in a serious experiment, we would likely not have done nearly enough work to warrent the application of the test data. Instead, we would rely on the validation metrics as a proxy for our test results until we had models that we believe would perform well.\n",
    "\n",
    "Once we evaluate our model on the test data, any subsequent changes we make would be based on what we learned from the test data. Meaning, we would have functionally incorporated information from the test set into our training procedure which could bias and even invalidate the results of our research. In a non-research setting the real test might be more like putting this feature into production.\n",
    "\n",
    "Nevertheless, it is always wise to create a test set that is not used as an evaluative measure until the very end of an experimental lifecycle. That is, once you have a model that you believe should generalize well to unseen data you __should__ test it on the test data to test that hypothosis. If your model performs poorly on the test data, you'll have to reevaluate your model, training data, and procedure.\n"
   ]
  },
  {
   "cell_type": "code",
   "execution_count": 131,
   "metadata": {
    "ExecuteTime": {
     "end_time": "2020-06-18T12:43:43.742695Z",
     "start_time": "2020-06-18T12:43:43.594832Z"
    }
   },
   "outputs": [
    {
     "name": "stdout",
     "output_type": "stream",
     "text": [
      "10000/10000 [==============================] - 0s 14us/step\n",
      "\n",
      "Testing data loss value:  0.38\n",
      "\n",
      "Testing data accuracy:  0.9\n"
     ]
    }
   ],
   "source": [
    "loss, accuracy = model.evaluate(x = X_test,\n",
    "                                y = y_test )\n",
    "print()\n",
    "print(\"Testing data loss value: \", round(loss, 2))\n",
    "print()\n",
    "print('Testing data accuracy: ', round(accuracy, 2))"
   ]
  },
  {
   "cell_type": "markdown",
   "metadata": {},
   "source": [
    "## Visualizing Results\n",
    "\n",
    "### Model Accuracy"
   ]
  },
  {
   "cell_type": "code",
   "execution_count": 132,
   "metadata": {
    "ExecuteTime": {
     "end_time": "2020-06-18T12:43:49.870654Z",
     "start_time": "2020-06-18T12:43:49.725654Z"
    }
   },
   "outputs": [
    {
     "data": {
      "text/plain": [
       "<matplotlib.legend.Legend at 0x1d2aa77ac48>"
      ]
     },
     "execution_count": 132,
     "metadata": {},
     "output_type": "execute_result"
    },
    {
     "data": {
      "image/png": "[encoded data removed]",
      "text/plain": [
       "<Figure size 432x288 with 1 Axes>"
      ]
     },
     "metadata": {
      "needs_background": "light"
     },
     "output_type": "display_data"
    }
   ],
   "source": [
    "plt.plot(history.history['accuracy'])\n",
    "plt.plot(history.history['val_accuracy'])\n",
    "plt.title('model accuracy')\n",
    "plt.xlabel('epoch')\n",
    "plt.ylabel('accuracy')\n",
    "plt.legend(['training_data', 'validation_data'], loc='best')"
   ]
  },
  {
   "cell_type": "markdown",
   "metadata": {},
   "source": [
    "### Model Loss"
   ]
  },
  {
   "cell_type": "code",
   "execution_count": 133,
   "metadata": {
    "ExecuteTime": {
     "end_time": "2020-06-18T12:43:55.543538Z",
     "start_time": "2020-06-18T12:43:55.417458Z"
    }
   },
   "outputs": [
    {
     "data": {
      "text/plain": [
       "<matplotlib.legend.Legend at 0x1d2b5386448>"
      ]
     },
     "execution_count": 133,
     "metadata": {},
     "output_type": "execute_result"
    },
    {
     "data": {
      "image/png": "[encoded data removed]",
      "text/plain": [
       "<Figure size 432x288 with 1 Axes>"
      ]
     },
     "metadata": {
      "needs_background": "light"
     },
     "output_type": "display_data"
    }
   ],
   "source": [
    "plt.plot(history.history['loss'])\n",
    "plt.plot(history.history['val_loss'])\n",
    "plt.title('model loss')\n",
    "plt.xlabel('epoch')\n",
    "plt.ylabel('loss')\n",
    "plt.legend(['training_data', 'validation_data'], loc='best')"
   ]
  },
  {
   "cell_type": "code",
   "execution_count": 135,
   "metadata": {
    "ExecuteTime": {
     "end_time": "2020-06-18T12:45:12.965058Z",
     "start_time": "2020-06-18T12:45:12.840758Z"
    }
   },
   "outputs": [],
   "source": [
    "\n",
    "\n",
    "from numpy import argmax\n",
    "\n",
    "# Predicting once, then we can use these repeatedly in the next cell without recomputing the predictions.\n",
    "predictions = model.predict(X_test)\n",
    "\n",
    "# For pagination & style in second cell\n",
    "page = 0\n",
    "fontdict = {'color': 'black'}\n",
    "\n"
   ]
  },
  {
   "cell_type": "code",
   "execution_count": 137,
   "metadata": {
    "ExecuteTime": {
     "end_time": "2020-06-18T12:45:38.078365Z",
     "start_time": "2020-06-18T12:45:37.646270Z"
    }
   },
   "outputs": [
    {
     "data": {
      "image/png": "[encoded data removed]",
      "text/plain": [
       "<Figure size 432x288 with 16 Axes>"
      ]
     },
     "metadata": {
      "needs_background": "light"
     },
     "output_type": "display_data"
    }
   ],
   "source": [
    "# Repeatedly running this cell will page through the predictions\n",
    "for i in range(16):\n",
    "    ax = plt.subplot(4, 4, i+1)\n",
    "    ax.axis('off')\n",
    "    plt.imshow(X_test_0[i + page], cmap='Greys')\n",
    "    prediction = argmax(predictions[i + page])\n",
    "    true_value = argmax(y_test_0[i + page])\n",
    "\n",
    "    fontdict['color'] = 'black' if prediction == true_value else 'red'\n",
    "    plt.title(\"{}, {}\".format(prediction, true_value), fontdict=fontdict)\n",
    "\n",
    "page += 16\n",
    "plt.tight_layout()\n",
    "plt.show()"
   ]
  },
  {
   "cell_type": "markdown",
   "metadata": {},
   "source": [
    "### Try with a new model"
   ]
  },
  {
   "cell_type": "code",
   "execution_count": 138,
   "metadata": {
    "ExecuteTime": {
     "end_time": "2020-06-18T12:48:38.062657Z",
     "start_time": "2020-06-18T12:48:38.016660Z"
    }
   },
   "outputs": [
    {
     "name": "stdout",
     "output_type": "stream",
     "text": [
      "Model: \"sequential_11\"\n",
      "_________________________________________________________________\n",
      "Layer (type)                 Output Shape              Param #   \n",
      "=================================================================\n",
      "dense_13 (Dense)             (None, 50)                39250     \n",
      "_________________________________________________________________\n",
      "dense_14 (Dense)             (None, 30)                1530      \n",
      "_________________________________________________________________\n",
      "dense_15 (Dense)             (None, 10)                310       \n",
      "=================================================================\n",
      "Total params: 41,090\n",
      "Trainable params: 41,090\n",
      "Non-trainable params: 0\n",
      "_________________________________________________________________\n"
     ]
    }
   ],
   "source": [
    "model = Sequential()\n",
    "\n",
    "model.add(Dense(units = 50, \n",
    "               activation = 'sigmoid',\n",
    "               input_shape=(number_of_features,)))\n",
    "\n",
    "model.add(Dense(units = 30))\n",
    "model.add(Dense(units = unique_labels,\n",
    "               activation='softmax'))\n",
    "\n",
    "model.summary()"
   ]
  },
  {
   "cell_type": "code",
   "execution_count": 139,
   "metadata": {
    "ExecuteTime": {
     "end_time": "2020-06-18T12:50:15.356097Z",
     "start_time": "2020-06-18T12:49:27.716227Z"
    }
   },
   "outputs": [
    {
     "name": "stdout",
     "output_type": "stream",
     "text": [
      "Train on 51000 samples, validate on 9000 samples\n",
      "Epoch 1/50\n",
      " - 1s - loss: 1.1433 - accuracy: 0.6929 - val_loss: 0.6298 - val_accuracy: 0.8564\n",
      "Epoch 2/50\n",
      " - 1s - loss: 0.5615 - accuracy: 0.8551 - val_loss: 0.4358 - val_accuracy: 0.8906\n",
      "Epoch 3/50\n",
      " - 1s - loss: 0.4420 - accuracy: 0.8802 - val_loss: 0.3621 - val_accuracy: 0.9037\n",
      "Epoch 4/50\n",
      " - 1s - loss: 0.3886 - accuracy: 0.8914 - val_loss: 0.3363 - val_accuracy: 0.9038\n",
      "Epoch 5/50\n",
      " - 1s - loss: 0.3585 - accuracy: 0.8970 - val_loss: 0.3142 - val_accuracy: 0.9119\n",
      "Epoch 6/50\n",
      " - 1s - loss: 0.3364 - accuracy: 0.9036 - val_loss: 0.2899 - val_accuracy: 0.9141\n",
      "Epoch 7/50\n",
      " - 1s - loss: 0.3175 - accuracy: 0.9087 - val_loss: 0.2793 - val_accuracy: 0.9210\n",
      "Epoch 8/50\n",
      " - 1s - loss: 0.3039 - accuracy: 0.9126 - val_loss: 0.2670 - val_accuracy: 0.9248\n",
      "Epoch 9/50\n",
      " - 1s - loss: 0.2929 - accuracy: 0.9157 - val_loss: 0.2617 - val_accuracy: 0.9220\n",
      "Epoch 10/50\n",
      " - 1s - loss: 0.2862 - accuracy: 0.9184 - val_loss: 0.2595 - val_accuracy: 0.9246\n",
      "Epoch 11/50\n",
      " - 1s - loss: 0.2763 - accuracy: 0.9199 - val_loss: 0.2500 - val_accuracy: 0.9258\n",
      "Epoch 12/50\n",
      " - 1s - loss: 0.2683 - accuracy: 0.9216 - val_loss: 0.2464 - val_accuracy: 0.9251\n",
      "Epoch 13/50\n",
      " - 1s - loss: 0.2616 - accuracy: 0.9229 - val_loss: 0.2451 - val_accuracy: 0.9269\n",
      "Epoch 14/50\n",
      " - 1s - loss: 0.2522 - accuracy: 0.9267 - val_loss: 0.2278 - val_accuracy: 0.9353\n",
      "Epoch 15/50\n",
      " - 1s - loss: 0.2474 - accuracy: 0.9271 - val_loss: 0.2296 - val_accuracy: 0.9327\n",
      "Epoch 16/50\n",
      " - 1s - loss: 0.2503 - accuracy: 0.9260 - val_loss: 0.2340 - val_accuracy: 0.9332\n",
      "Epoch 17/50\n",
      " - 1s - loss: 0.2355 - accuracy: 0.9307 - val_loss: 0.2127 - val_accuracy: 0.9400\n",
      "Epoch 18/50\n",
      " - 1s - loss: 0.2296 - accuracy: 0.9316 - val_loss: 0.2145 - val_accuracy: 0.9391\n",
      "Epoch 19/50\n",
      " - 1s - loss: 0.2300 - accuracy: 0.9315 - val_loss: 0.2233 - val_accuracy: 0.9343\n",
      "Epoch 20/50\n",
      " - 1s - loss: 0.2278 - accuracy: 0.9318 - val_loss: 0.2086 - val_accuracy: 0.9389\n",
      "Epoch 21/50\n",
      " - 1s - loss: 0.2223 - accuracy: 0.9342 - val_loss: 0.2083 - val_accuracy: 0.9408\n",
      "Epoch 22/50\n",
      " - 1s - loss: 0.2230 - accuracy: 0.9334 - val_loss: 0.2099 - val_accuracy: 0.9402\n",
      "Epoch 23/50\n",
      " - 1s - loss: 0.2212 - accuracy: 0.9344 - val_loss: 0.2072 - val_accuracy: 0.9379\n",
      "Epoch 24/50\n",
      " - 1s - loss: 0.2128 - accuracy: 0.9361 - val_loss: 0.2052 - val_accuracy: 0.9422\n",
      "Epoch 25/50\n",
      " - 1s - loss: 0.2133 - accuracy: 0.9369 - val_loss: 0.2003 - val_accuracy: 0.9436\n",
      "Epoch 26/50\n",
      " - 1s - loss: 0.2067 - accuracy: 0.9378 - val_loss: 0.2139 - val_accuracy: 0.9390\n",
      "Epoch 27/50\n",
      " - 1s - loss: 0.2040 - accuracy: 0.9391 - val_loss: 0.1930 - val_accuracy: 0.9443\n",
      "Epoch 28/50\n",
      " - 1s - loss: 0.2041 - accuracy: 0.9393 - val_loss: 0.2086 - val_accuracy: 0.9411\n",
      "Epoch 29/50\n",
      " - 1s - loss: 0.2037 - accuracy: 0.9382 - val_loss: 0.2004 - val_accuracy: 0.9422\n",
      "Epoch 30/50\n",
      " - 1s - loss: 0.2002 - accuracy: 0.9398 - val_loss: 0.2091 - val_accuracy: 0.9387\n",
      "Epoch 31/50\n",
      " - 1s - loss: 0.1993 - accuracy: 0.9398 - val_loss: 0.1942 - val_accuracy: 0.9424\n",
      "Epoch 32/50\n",
      " - 1s - loss: 0.1946 - accuracy: 0.9418 - val_loss: 0.1957 - val_accuracy: 0.9439\n",
      "Epoch 33/50\n",
      " - 1s - loss: 0.1868 - accuracy: 0.9444 - val_loss: 0.1948 - val_accuracy: 0.9437\n",
      "Epoch 34/50\n",
      " - 1s - loss: 0.1839 - accuracy: 0.9449 - val_loss: 0.1929 - val_accuracy: 0.9454\n",
      "Epoch 35/50\n",
      " - 1s - loss: 0.1831 - accuracy: 0.9443 - val_loss: 0.1911 - val_accuracy: 0.9464\n",
      "Epoch 36/50\n",
      " - 1s - loss: 0.1852 - accuracy: 0.9448 - val_loss: 0.1889 - val_accuracy: 0.9429\n",
      "Epoch 37/50\n",
      " - 1s - loss: 0.1808 - accuracy: 0.9450 - val_loss: 0.1829 - val_accuracy: 0.9486\n",
      "Epoch 38/50\n",
      " - 1s - loss: 0.1812 - accuracy: 0.9459 - val_loss: 0.1800 - val_accuracy: 0.9478\n",
      "Epoch 39/50\n",
      " - 1s - loss: 0.1843 - accuracy: 0.9433 - val_loss: 0.1847 - val_accuracy: 0.9457\n",
      "Epoch 40/50\n",
      " - 1s - loss: 0.1814 - accuracy: 0.9451 - val_loss: 0.1875 - val_accuracy: 0.9452\n",
      "Epoch 41/50\n",
      " - 1s - loss: 0.1795 - accuracy: 0.9459 - val_loss: 0.1816 - val_accuracy: 0.9476\n",
      "Epoch 42/50\n",
      " - 1s - loss: 0.1763 - accuracy: 0.9481 - val_loss: 0.1821 - val_accuracy: 0.9487\n",
      "Epoch 43/50\n",
      " - 1s - loss: 0.1795 - accuracy: 0.9463 - val_loss: 0.1758 - val_accuracy: 0.9502\n",
      "Epoch 44/50\n",
      " - 1s - loss: 0.1785 - accuracy: 0.9468 - val_loss: 0.1829 - val_accuracy: 0.9481\n",
      "Epoch 45/50\n",
      " - 1s - loss: 0.1743 - accuracy: 0.9475 - val_loss: 0.1726 - val_accuracy: 0.9503\n",
      "Epoch 46/50\n",
      " - 1s - loss: 0.1727 - accuracy: 0.9476 - val_loss: 0.1832 - val_accuracy: 0.9466\n",
      "Epoch 47/50\n",
      " - 1s - loss: 0.1829 - accuracy: 0.9448 - val_loss: 0.1830 - val_accuracy: 0.9466\n",
      "Epoch 48/50\n",
      " - 1s - loss: 0.1790 - accuracy: 0.9466 - val_loss: 0.1905 - val_accuracy: 0.9468\n",
      "Epoch 49/50\n",
      " - 1s - loss: 0.1694 - accuracy: 0.9502 - val_loss: 0.1721 - val_accuracy: 0.9499\n",
      "Epoch 50/50\n",
      " - 1s - loss: 0.1713 - accuracy: 0.9480 - val_loss: 0.1914 - val_accuracy: 0.9419\n"
     ]
    }
   ],
   "source": [
    "model.compile(optimizer='sgd',\n",
    "              loss='categorical_crossentropy',\n",
    "              metrics=['accuracy'])\n",
    "\n",
    "history = model.fit(x = X_train,\n",
    "                    y = y_train,\n",
    "                    verbose=2,\n",
    "                    batch_size=100,\n",
    "                   epochs=50,\n",
    "                   validation_split=0.15)"
   ]
  },
  {
   "cell_type": "code",
   "execution_count": 142,
   "metadata": {
    "ExecuteTime": {
     "end_time": "2020-06-18T12:50:48.322957Z",
     "start_time": "2020-06-18T12:50:48.178862Z"
    }
   },
   "outputs": [
    {
     "data": {
      "text/plain": [
       "<matplotlib.legend.Legend at 0x1d2b51a6d08>"
      ]
     },
     "execution_count": 142,
     "metadata": {},
     "output_type": "execute_result"
    },
    {
     "data": {
      "image/png": "[encoded data removed]",
      "text/plain": [
       "<Figure size 432x288 with 1 Axes>"
      ]
     },
     "metadata": {
      "needs_background": "light"
     },
     "output_type": "display_data"
    }
   ],
   "source": [
    "plt.plot(history.history['accuracy'])\n",
    "plt.plot(history.history['val_accuracy'])\n",
    "plt.title('model accuracy')\n",
    "plt.xlabel('epoch')\n",
    "plt.ylabel('accuracy')\n",
    "plt.legend(['training_data', 'validation_data'], loc='best')\n"
   ]
  },
  {
   "cell_type": "code",
   "execution_count": 141,
   "metadata": {
    "ExecuteTime": {
     "end_time": "2020-06-18T12:50:39.576749Z",
     "start_time": "2020-06-18T12:50:39.443679Z"
    }
   },
   "outputs": [
    {
     "data": {
      "text/plain": [
       "<matplotlib.legend.Legend at 0x1d2bbaf4888>"
      ]
     },
     "execution_count": 141,
     "metadata": {},
     "output_type": "execute_result"
    },
    {
     "data": {
      "image/png": "[encoded data removed]",
      "text/plain": [
       "<Figure size 432x288 with 1 Axes>"
      ]
     },
     "metadata": {
      "needs_background": "light"
     },
     "output_type": "display_data"
    }
   ],
   "source": [
    "\n",
    "plt.plot(history.history['loss'])\n",
    "plt.plot(history.history['val_loss'])\n",
    "plt.title('model loss')\n",
    "plt.xlabel('epoch')\n",
    "plt.ylabel('loss')\n",
    "plt.legend(['training_data', 'validation_data'], loc='best')"
   ]
  },
  {
   "cell_type": "code",
   "execution_count": 143,
   "metadata": {
    "ExecuteTime": {
     "end_time": "2020-06-18T12:51:13.053085Z",
     "start_time": "2020-06-18T12:51:12.882396Z"
    }
   },
   "outputs": [
    {
     "name": "stdout",
     "output_type": "stream",
     "text": [
      "10000/10000 [==============================] - 0s 16us/step\n",
      "\n",
      "Testing data loss value:  0.19\n",
      "\n",
      "Testing data accuracy:  0.94\n"
     ]
    }
   ],
   "source": [
    "loss, accuracy = model.evaluate(x = X_test,\n",
    "                                y = y_test )\n",
    "print()\n",
    "print(\"Testing data loss value: \", round(loss, 2))\n",
    "print()\n",
    "print('Testing data accuracy: ', round(accuracy, 2))"
   ]
  },
  {
   "cell_type": "code",
   "execution_count": 149,
   "metadata": {
    "ExecuteTime": {
     "end_time": "2020-06-18T12:51:59.531201Z",
     "start_time": "2020-06-18T12:51:59.398161Z"
    }
   },
   "outputs": [],
   "source": [
    "\n",
    "from numpy import argmax\n",
    "\n",
    "# Predicting once, then we can use these repeatedly in the next cell without recomputing the predictions.\n",
    "predictions = model.predict(X_test)\n",
    "\n",
    "# For pagination & style in second cell\n",
    "page = 0\n",
    "fontdict = {'color': 'black'}\n"
   ]
  },
  {
   "cell_type": "code",
   "execution_count": 151,
   "metadata": {
    "ExecuteTime": {
     "end_time": "2020-06-18T12:52:18.288239Z",
     "start_time": "2020-06-18T12:52:17.915153Z"
    }
   },
   "outputs": [
    {
     "data": {
      "image/png": "[encoded data removed]",
      "text/plain": [
       "<Figure size 432x288 with 15 Axes>"
      ]
     },
     "metadata": {
      "needs_background": "light"
     },
     "output_type": "display_data"
    }
   ],
   "source": [
    "# Repeatedly running this cell will page through the predictions\n",
    "for i in range(15):\n",
    "    ax = plt.subplot(4, 4, i+1)\n",
    "    ax.axis('off')\n",
    "    plt.imshow(X_test_0[i + page], cmap='Greys')\n",
    "    prediction = argmax(predictions[i + page])\n",
    "    true_value = argmax(y_test_0[i + page])\n",
    "\n",
    "    fontdict['color'] = 'black' if prediction == true_value else 'red'\n",
    "    plt.title(\"{}, {}\".format(prediction, true_value), fontdict=fontdict)\n",
    "\n",
    "page += 16\n",
    "plt.tight_layout()\n",
    "plt.show()"
   ]
  },
  {
   "cell_type": "code",
   "execution_count": null,
   "metadata": {},
   "outputs": [],
   "source": []
  }
 ],
 "metadata": {
  "kernelspec": {
   "display_name": "Python 3",
   "language": "python",
   "name": "python3"
  },
  "language_info": {
   "codemirror_mode": {
    "name": "ipython",
    "version": 3
   },
   "file_extension": ".py",
   "mimetype": "text/x-python",
   "name": "python",
   "nbconvert_exporter": "python",
   "pygments_lexer": "ipython3",
   "version": "3.7.6"
  },
  "varInspector": {
   "cols": {
    "lenName": 16,
    "lenType": 16,
    "lenVar": 40
   },
   "kernels_config": {
    "python": {
     "delete_cmd_postfix": "",
     "delete_cmd_prefix": "del ",
     "library": "var_list.py",
     "varRefreshCmd": "print(var_dic_list())"
    },
    "r": {
     "delete_cmd_postfix": ") ",
     "delete_cmd_prefix": "rm(",
     "library": "var_list.r",
     "varRefreshCmd": "cat(var_dic_list()) "
    }
   },
   "types_to_exclude": [
    "module",
    "function",
    "builtin_function_or_method",
    "instance",
    "_Feature"
   ],
   "window_display": false
  }
 },
 "nbformat": 4,
 "nbformat_minor": 4
}
