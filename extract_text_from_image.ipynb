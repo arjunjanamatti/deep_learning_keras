{
 "cells": [
  {
   "cell_type": "markdown",
   "metadata": {},
   "source": [
    "Libraries required for reading text from images;\n",
    "    * OpenCV\n",
    "    * pytesseract"
   ]
  },
  {
   "cell_type": "code",
   "execution_count": 1,
   "metadata": {
    "ExecuteTime": {
     "end_time": "2020-06-29T14:30:56.772687Z",
     "start_time": "2020-06-29T14:30:56.241465Z"
    }
   },
   "outputs": [],
   "source": [
    "import pytesseract as pytext\n",
    "pytext.pytesseract.tesseract_cmd='C:\\\\Users\\\\Arjun Janamatti\\\\Anaconda3\\\\pkgs\\\\tesseract-4.1.1-h328755b_1\\\\Library\\\\bin\\\\tesseract.exe'"
   ]
  },
  {
   "cell_type": "code",
   "execution_count": 2,
   "metadata": {
    "ExecuteTime": {
     "end_time": "2020-06-29T14:30:57.595997Z",
     "start_time": "2020-06-29T14:30:57.543154Z"
    }
   },
   "outputs": [],
   "source": [
    "import cv2 as cv\n",
    "import os"
   ]
  },
  {
   "cell_type": "markdown",
   "metadata": {},
   "source": [
    "### Display the images"
   ]
  },
  {
   "cell_type": "code",
   "execution_count": 3,
   "metadata": {
    "ExecuteTime": {
     "end_time": "2020-06-29T14:31:23.334903Z",
     "start_time": "2020-06-29T14:31:18.041853Z"
    }
   },
   "outputs": [],
   "source": [
    "path_location = 'images_with_text/'\n",
    "for i in os.listdir(path = path_location):\n",
    "    image = cv.imread(filename = path_location+i)\n",
    "    cv.imshow('file name', image)\n",
    "    cv.waitKey(0)\n",
    "    cv.destroyAllWindows()"
   ]
  },
  {
   "cell_type": "markdown",
   "metadata": {},
   "source": [
    "### Return the string from the image"
   ]
  },
  {
   "cell_type": "code",
   "execution_count": 12,
   "metadata": {
    "ExecuteTime": {
     "end_time": "2020-06-29T14:26:51.310158Z",
     "start_time": "2020-06-29T14:26:49.863666Z"
    }
   },
   "outputs": [
    {
     "name": "stdout",
     "output_type": "stream",
     "text": [
      "THIS TEXT CLIPS THE\n",
      "BACKGROUND IMAGE\n",
      "\n",
      "THIS TEXT CLIPS THE\n",
      "BACKGROUND IMAGE\n",
      "the staffs were\n",
      "fast, friendly\n",
      "\n",
      "and efficient.\n",
      "\n",
      "~ Unbeatable\n",
      "location nice\n",
      "clean good value |{i\n",
      "jince it was highly limited in terms of\n",
      "budget, and the production restrictions, the\n",
      "film was cheerful.\n",
      "There are few budget items and production\n",
      "limitations to make this film a really good\n",
      "one.\n",
      "\n",
      "Due to the small dollar amount and\n",
      "production limitations the ouest film is very\n",
      "beautiful.\n",
      "\n",
      " \n",
      "    \n",
      "  \n",
      "    \n",
      "   \n",
      "     \n",
      "\n",
      "    \n",
      " \n",
      "\n",
      "   \n",
      "\n",
      "Given the low budget and\n",
      "production limitations, this movie\n",
      "is very good.\n",
      "\n",
      "Back translation\n",
      "\n",
      "Data science is an inter-disciplinary field\n",
      "that uses scientific methods, processes,\n",
      "algorithms and systems to extract\n",
      "knowledge and insights from many\n",
      "structural and unstructured data.{\"II4] Data\n",
      "science is related to data mining, deep\n",
      "learning and big data.\n",
      "\n",
      "Data science is a \"concept to unify statistics\n",
      "data analysis, machine learning, domain\n",
      "knowledge and their related methods\" in\n",
      "order to \"understand and analyze actual\n",
      "phenomena\" with data.!®I It uses technique:\n",
      "and theories drawn from many fields within\n",
      "the context of mathematics, statistics,\n",
      "computer science, domain knowledge and\n",
      "information science. Turing award winner\n",
      "Jim Gray imagined data science as a \"fourtl\n",
      "paradigm\" of science (empirical, theoretical\n",
      "computational and now data-driven) and\n",
      "asserted that \"everything about science is\n",
      "changing because of the impact of\n",
      "information technology\" and the data\n",
      "deluge./41[5]\n"
     ]
    }
   ],
   "source": [
    "for i in os.listdir(path = path_location):\n",
    "    text = pytext.image_to_string(image = path_location+i)\n",
    "    print(text)\n",
    "#     print()"
   ]
  }
 ],
 "metadata": {
  "kernelspec": {
   "display_name": "Python 3",
   "language": "python",
   "name": "python3"
  },
  "varInspector": {
   "cols": {
    "lenName": 16,
    "lenType": 16,
    "lenVar": 40
   },
   "kernels_config": {
    "python": {
     "delete_cmd_postfix": "",
     "delete_cmd_prefix": "del ",
     "library": "var_list.py",
     "varRefreshCmd": "print(var_dic_list())"
    },
    "r": {
     "delete_cmd_postfix": ") ",
     "delete_cmd_prefix": "rm(",
     "library": "var_list.r",
     "varRefreshCmd": "cat(var_dic_list()) "
    }
   },
   "types_to_exclude": [
    "module",
    "function",
    "builtin_function_or_method",
    "instance",
    "_Feature"
   ],
   "window_display": false
  }
 },
 "nbformat": 4,
 "nbformat_minor": 4
}
