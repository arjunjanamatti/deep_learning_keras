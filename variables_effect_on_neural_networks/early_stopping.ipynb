{
 "cells": [
  {
   "cell_type": "code",
   "execution_count": 2,
   "metadata": {
    "ExecuteTime": {
     "end_time": "2020-06-23T06:10:16.242669Z",
     "start_time": "2020-06-23T06:10:15.690725Z"
    }
   },
   "outputs": [],
   "source": [
    "import keras\n",
    "from keras.layers import Dense, Dropout\n",
    "from keras.models import Sequential\n",
    "from keras.datasets import mnist\n",
    "from keras.callbacks import EarlyStopping\n",
    "import matplotlib.pyplot as plt\n",
    "import numpy as np"
   ]
  },
  {
   "cell_type": "code",
   "execution_count": 10,
   "metadata": {
    "ExecuteTime": {
     "end_time": "2020-06-23T06:42:39.263372Z",
     "start_time": "2020-06-23T06:42:38.695088Z"
    }
   },
   "outputs": [
    {
     "name": "stdout",
     "output_type": "stream",
     "text": [
      "Shape of training data:  (60000, 28, 28)\n",
      "\n",
      "Shape of training data after reshape : (60000, 784)\n"
     ]
    }
   ],
   "source": [
    "(X_train_0, y_train_0), (X_test_0, y_test_0) = mnist.load_data()\n",
    "print(\"Shape of training data: \", X_train_0.shape)\n",
    "print()\n",
    "'''Since shape of training data should be changed'''\n",
    "number_of_features = X_train_0.shape[1] * X_train_0.shape[2]\n",
    "unique_outcomes = np.unique(y_train_0)\n",
    "number_of_unique_outcomes = len(unique_outcomes)\n",
    "\n",
    "X_train = np.reshape(X_train_0, (len(X_train_0), number_of_features))\n",
    "X_test = np.reshape(X_test_0, (len(X_test_0), number_of_features))\n",
    "\n",
    "print('Shape of training data after reshape :', X_train.shape)\n",
    "\n",
    "y_train = keras.utils.to_categorical(y_train_0, \n",
    "                                     num_classes = number_of_unique_outcomes)\n",
    "\n",
    "y_test = keras.utils.to_categorical(y_test_0, \n",
    "                                     num_classes = number_of_unique_outcomes)\n"
   ]
  },
  {
   "cell_type": "code",
   "execution_count": 11,
   "metadata": {
    "ExecuteTime": {
     "end_time": "2020-06-23T06:48:04.346534Z",
     "start_time": "2020-06-23T06:48:04.190576Z"
    }
   },
   "outputs": [
    {
     "name": "stdout",
     "output_type": "stream",
     "text": [
      "Model: \"sequential_1\"\n",
      "_________________________________________________________________\n",
      "Layer (type)                 Output Shape              Param #   \n",
      "=================================================================\n",
      "dense_1 (Dense)              (None, 250)               196250    \n",
      "_________________________________________________________________\n",
      "dense_2 (Dense)              (None, 100)               25100     \n",
      "_________________________________________________________________\n",
      "dense_3 (Dense)              (None, 10)                1010      \n",
      "=================================================================\n",
      "Total params: 222,360\n",
      "Trainable params: 222,360\n",
      "Non-trainable params: 0\n",
      "_________________________________________________________________\n"
     ]
    }
   ],
   "source": [
    "model = Sequential()\n",
    "model.add(Dense(\n",
    "                units = 250,\n",
    "                activation = 'sigmoid',\n",
    "                input_shape=(number_of_features, )))\n",
    "model.add(Dense(\n",
    "                units = 100,\n",
    "                activation = 'sigmoid'))\n",
    "model.add(Dense(\n",
    "                units = number_of_unique_outcomes,\n",
    "                activation = 'softmax'))\n",
    "model.summary()"
   ]
  },
  {
   "cell_type": "code",
   "execution_count": 12,
   "metadata": {
    "ExecuteTime": {
     "end_time": "2020-06-23T06:53:37.687351Z",
     "start_time": "2020-06-23T06:53:11.138684Z"
    }
   },
   "outputs": [
    {
     "name": "stdout",
     "output_type": "stream",
     "text": [
      "Train on 54000 samples, validate on 6000 samples\n",
      "Epoch 1/10\n",
      " - 3s - loss: 1.7987 - accuracy: 0.5777 - val_loss: 1.3099 - val_accuracy: 0.8012\n",
      "Epoch 2/10\n",
      " - 2s - loss: 1.0669 - accuracy: 0.8128 - val_loss: 0.7956 - val_accuracy: 0.8767\n",
      "Epoch 3/10\n",
      " - 3s - loss: 0.7269 - accuracy: 0.8624 - val_loss: 0.5656 - val_accuracy: 0.9002\n",
      "Epoch 4/10\n",
      " - 2s - loss: 0.5600 - accuracy: 0.8836 - val_loss: 0.4477 - val_accuracy: 0.9163\n",
      "Epoch 5/10\n",
      " - 3s - loss: 0.4657 - accuracy: 0.8957 - val_loss: 0.3762 - val_accuracy: 0.9208\n",
      "Epoch 6/10\n",
      " - 3s - loss: 0.4074 - accuracy: 0.9034 - val_loss: 0.3328 - val_accuracy: 0.9260\n",
      "Epoch 7/10\n",
      " - 2s - loss: 0.3670 - accuracy: 0.9097 - val_loss: 0.3033 - val_accuracy: 0.9287\n",
      "Epoch 8/10\n",
      " - 2s - loss: 0.3358 - accuracy: 0.9155 - val_loss: 0.2776 - val_accuracy: 0.9313\n",
      "Epoch 9/10\n",
      " - 3s - loss: 0.3127 - accuracy: 0.9194 - val_loss: 0.2613 - val_accuracy: 0.9352\n",
      "Epoch 10/10\n",
      " - 2s - loss: 0.2938 - accuracy: 0.9234 - val_loss: 0.2466 - val_accuracy: 0.9398\n",
      "10000/10000 [==============================] - 1s 62us/step\n"
     ]
    }
   ],
   "source": [
    "model.compile(optimizer='sgd',\n",
    "              loss='categorical_crossentropy',\n",
    "              metrics=['accuracy'])\n",
    "history = model.fit(    \n",
    "                    x=X_train,\n",
    "                    y=y_train,\n",
    "                    batch_size=100,\n",
    "                    epochs=10,\n",
    "                    verbose=2,\n",
    "                    validation_split=0.1)\n",
    "\n",
    "loss,accuracy = model.evaluate(\n",
    "                                x = X_test,\n",
    "                                y = y_test)\n"
   ]
  },
  {
   "cell_type": "code",
   "execution_count": 15,
   "metadata": {
    "ExecuteTime": {
     "end_time": "2020-06-23T07:43:38.812720Z",
     "start_time": "2020-06-23T07:43:38.671686Z"
    }
   },
   "outputs": [
    {
     "data": {
      "text/plain": [
       "<matplotlib.legend.Legend at 0x1b189ef4348>"
      ]
     },
     "execution_count": 15,
     "metadata": {},
     "output_type": "execute_result"
    },
    {
     "data": {
      "image/png": "[encoded data removed]",
      "text/plain": [
       "<Figure size 432x288 with 1 Axes>"
      ]
     },
     "metadata": {
      "needs_background": "light"
     },
     "output_type": "display_data"
    }
   ],
   "source": [
    "plt.plot(history.history['val_accuracy'])\n",
    "plt.plot(history.history['accuracy'])\n",
    "plt.xlabel('epochs')\n",
    "plt.ylabel('accuracy')\n",
    "plt.title('model accuracy')\n",
    "plt.legend(['val_accuracy','accuracy'])\n",
    "# history.history.keys()"
   ]
  },
  {
   "cell_type": "markdown",
   "metadata": {},
   "source": [
    "## Early Stopping\n",
    "\n",
    "Early stopping is a tactic used in lots of ML models, not just neural networks. As the name suggests, early stopping prevents a model from overfitting by stopping training earlier than specified. Typically, early stopping is tied to a metric (or metrics) like validation loss or validation accuracy—if scores on a validation metric stop improving (or get worse) while training scores continue to rise, we're probably overfitting and we should stop training."
   ]
  },
  {
   "cell_type": "code",
   "execution_count": 20,
   "metadata": {
    "ExecuteTime": {
     "end_time": "2020-06-23T08:04:29.954476Z",
     "start_time": "2020-06-23T08:04:20.449462Z"
    }
   },
   "outputs": [
    {
     "name": "stdout",
     "output_type": "stream",
     "text": [
      "Train on 54000 samples, validate on 6000 samples\n",
      "Epoch 1/50\n",
      " - 1s - loss: 0.0532 - accuracy: 0.9886 - val_loss: 0.1025 - val_accuracy: 0.9677\n",
      "Epoch 2/50\n",
      " - 1s - loss: 0.0509 - accuracy: 0.9897 - val_loss: 0.1017 - val_accuracy: 0.9683\n",
      "Epoch 3/50\n",
      " - 1s - loss: 0.0505 - accuracy: 0.9895 - val_loss: 0.1011 - val_accuracy: 0.9688\n",
      "Epoch 4/50\n",
      " - 1s - loss: 0.0494 - accuracy: 0.9897 - val_loss: 0.1004 - val_accuracy: 0.9712\n",
      "Epoch 5/50\n",
      " - 1s - loss: 0.0483 - accuracy: 0.9903 - val_loss: 0.1022 - val_accuracy: 0.9690\n",
      "Epoch 6/50\n",
      " - 1s - loss: 0.0472 - accuracy: 0.9904 - val_loss: 0.1050 - val_accuracy: 0.9678\n",
      "Epoch 7/50\n",
      " - 1s - loss: 0.0473 - accuracy: 0.9906 - val_loss: 0.1011 - val_accuracy: 0.9678\n",
      "10000/10000 [==============================] - 0s 25us/step\n"
     ]
    }
   ],
   "source": [
    "stop_epoch = EarlyStopping(\n",
    "                           monitor = 'val_loss',\n",
    "                           patience = 3,\n",
    "                           restore_best_weights = True)\n",
    "\n",
    "\n",
    "model.compile(optimizer='sgd',\n",
    "              loss='categorical_crossentropy',\n",
    "              metrics=['accuracy'])\n",
    "history = model.fit(    \n",
    "                    x=X_train,\n",
    "                    y=y_train,\n",
    "                    batch_size=100,\n",
    "                    epochs=50,\n",
    "                    verbose=2,\n",
    "                    callbacks = [stop_epoch],\n",
    "                    validation_split=0.1)\n",
    "\n",
    "loss,accuracy = model.evaluate(\n",
    "                                x = X_test,\n",
    "                                y = y_test)\n"
   ]
  },
  {
   "cell_type": "code",
   "execution_count": null,
   "metadata": {},
   "outputs": [],
   "source": []
  }
 ],
 "metadata": {
  "kernelspec": {
   "display_name": "Python 3",
   "language": "python",
   "name": "python3"
  },
  "language_info": {
   "codemirror_mode": {
    "name": "ipython",
    "version": 3
   },
   "file_extension": ".py",
   "mimetype": "text/x-python",
   "name": "python",
   "nbconvert_exporter": "python",
   "pygments_lexer": "ipython3",
   "version": "3.7.6"
  },
  "varInspector": {
   "cols": {
    "lenName": 16,
    "lenType": 16,
    "lenVar": 40
   },
   "kernels_config": {
    "python": {
     "delete_cmd_postfix": "",
     "delete_cmd_prefix": "del ",
     "library": "var_list.py",
     "varRefreshCmd": "print(var_dic_list())"
    },
    "r": {
     "delete_cmd_postfix": ") ",
     "delete_cmd_prefix": "rm(",
     "library": "var_list.r",
     "varRefreshCmd": "cat(var_dic_list()) "
    }
   },
   "types_to_exclude": [
    "module",
    "function",
    "builtin_function_or_method",
    "instance",
    "_Feature"
   ],
   "window_display": false
  }
 },
 "nbformat": 4,
 "nbformat_minor": 4
}
