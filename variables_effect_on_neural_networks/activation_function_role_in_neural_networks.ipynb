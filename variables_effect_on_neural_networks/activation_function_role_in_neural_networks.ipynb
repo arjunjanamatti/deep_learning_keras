{
 "cells": [
  {
   "cell_type": "code",
   "execution_count": 1,
   "metadata": {
    "ExecuteTime": {
     "end_time": "2020-06-19T06:12:52.404831Z",
     "start_time": "2020-06-19T06:12:51.785860Z"
    }
   },
   "outputs": [],
   "source": [
    "import numpy as np\n",
    "import matplotlib.pyplot as plt"
   ]
  },
  {
   "cell_type": "code",
   "execution_count": 14,
   "metadata": {
    "ExecuteTime": {
     "end_time": "2020-06-19T06:25:25.973434Z",
     "start_time": "2020-06-19T06:25:25.714893Z"
    }
   },
   "outputs": [
    {
     "data": {
      "image/png": "[encoded data removed]",
      "text/plain": [
       "<Figure size 432x288 with 1 Axes>"
      ]
     },
     "metadata": {
      "needs_background": "light"
     },
     "output_type": "display_data"
    }
   ],
   "source": [
    "def sigmoid_function(z):\n",
    "    return (1 / (1 + np.exp(-z)))\n",
    "\n",
    "# construct a plot\n",
    "x = np.linspace(-10,10,100)\n",
    "y = sigmoid_function(x)\n",
    "plt.plot(x,y)\n",
    "plt.title(\"Sigmoid function\")\n",
    "plt.show()\n"
   ]
  },
  {
   "cell_type": "code",
   "execution_count": 16,
   "metadata": {
    "ExecuteTime": {
     "end_time": "2020-06-19T06:35:09.917054Z",
     "start_time": "2020-06-19T06:35:09.597712Z"
    }
   },
   "outputs": [
    {
     "data": {
      "image/png": "[encoded data removed]",
      "text/plain": [
       "<Figure size 432x288 with 1 Axes>"
      ]
     },
     "metadata": {
      "needs_background": "light"
     },
     "output_type": "display_data"
    }
   ],
   "source": [
    "def sigmoid_derivative_function(z):\n",
    "    return sigmoid_function(z) * (1 - sigmoid_function(z))\n",
    "\n",
    "x = np.linspace(-10,10,100)\n",
    "y_sigmoid = sigmoid_function(x)\n",
    "y_sigmoid_derivative = sigmoid_derivative_function(x)\n",
    "plt.plot(x,y_sigmoid, 'b')\n",
    "plt.plot(x, y_sigmoid_derivative, 'r')\n",
    "plt.title(\"Sigmoid function with derivative\")\n",
    "plt.legend([\"Sigmoid function\", 'Sigmoid derivative function'])\n",
    "plt.show()\n"
   ]
  },
  {
   "cell_type": "markdown",
   "metadata": {},
   "source": [
    "Notice that at both ends of the range the derivative (red line) approaches 0. In terms of tuning neural networks, this means that the corrections applied based on the loss function can become very small—causing the node to effectively stop learning. This is especially true of neural networks with several layers, because the vanishing gradient problem stacks across the layers."
   ]
  },
  {
   "cell_type": "code",
   "execution_count": 27,
   "metadata": {
    "ExecuteTime": {
     "end_time": "2020-06-19T07:07:04.763523Z",
     "start_time": "2020-06-19T07:07:04.507454Z"
    }
   },
   "outputs": [
    {
     "name": "stdout",
     "output_type": "stream",
     "text": [
      "Shape of train data, after loading from dataset:  (60000, 28, 28)\n"
     ]
    }
   ],
   "source": [
    "import keras\n",
    "from keras.models import Sequential\n",
    "from keras.layers import Dense\n",
    "from keras.datasets import mnist\n",
    "\n",
    "(X_train_0, y_train_0),(X_test_0,y_test_0) = mnist.load_data()\n",
    "print(\"Shape of train data, after loading from dataset: \", X_train_0.shape)\n",
    "number_of_features = X_train_0[0].shape[0] * X_train_0[0].shape[1] \n",
    "unique_outcomes = np.unique(y_train_0)\n",
    "number_of_unique_outcomes = len(unique_outcomes)\n",
    "\n",
    "X_train = X_train_0.reshape(len(X_train_0), number_of_features)\n",
    "X_test = X_test_0.reshape(len(X_test_0), number_of_features)\n",
    "\n",
    "y_train = keras.utils.to_categorical(y_train_0, \n",
    "                                     num_classes=number_of_unique_outcomes,\n",
    "                                     dtype='int')\n",
    "y_test = keras.utils.to_categorical(y_test_0, \n",
    "                                     num_classes=number_of_unique_outcomes,\n",
    "                                     dtype='int')"
   ]
  },
  {
   "cell_type": "code",
   "execution_count": 29,
   "metadata": {
    "ExecuteTime": {
     "end_time": "2020-06-19T07:08:27.106913Z",
     "start_time": "2020-06-19T07:08:27.098892Z"
    }
   },
   "outputs": [],
   "source": [
    "def model_accuracy_plot(history):\n",
    "    plt.plot(history.history['accuracy'])\n",
    "    plt.plot(history.history['val_accuracy'])\n",
    "    plt.title('model accuracy')\n",
    "    plt.xlabel('epoch')\n",
    "    plt.ylabel('accuracy')\n",
    "    plt.legend(['training_data', 'validation_data'], loc='best')\n",
    "    plt.show\n",
    "    \n",
    "def model_loss_plot(history):\n",
    "    plt.plot(history.history['loss'])\n",
    "    plt.plot(history.history['val_loss'])\n",
    "    plt.title('model loss')\n",
    "    plt.xlabel('epoch')\n",
    "    plt.ylabel('accuracy')\n",
    "    plt.legend(['training_data', 'validation_data'], loc='best')\n",
    "    plt.show()"
   ]
  },
  {
   "cell_type": "code",
   "execution_count": 31,
   "metadata": {
    "ExecuteTime": {
     "end_time": "2020-06-19T07:11:27.444791Z",
     "start_time": "2020-06-19T07:10:43.020365Z"
    }
   },
   "outputs": [
    {
     "name": "stdout",
     "output_type": "stream",
     "text": [
      "Model: \"sequential_2\"\n",
      "_________________________________________________________________\n",
      "Layer (type)                 Output Shape              Param #   \n",
      "=================================================================\n",
      "dense_12 (Dense)             (None, 10)                7850      \n",
      "_________________________________________________________________\n",
      "dense_13 (Dense)             (None, 10)                110       \n",
      "_________________________________________________________________\n",
      "dense_14 (Dense)             (None, 10)                110       \n",
      "_________________________________________________________________\n",
      "dense_15 (Dense)             (None, 10)                110       \n",
      "_________________________________________________________________\n",
      "dense_16 (Dense)             (None, 10)                110       \n",
      "_________________________________________________________________\n",
      "dense_17 (Dense)             (None, 10)                110       \n",
      "_________________________________________________________________\n",
      "dense_18 (Dense)             (None, 10)                110       \n",
      "_________________________________________________________________\n",
      "dense_19 (Dense)             (None, 10)                110       \n",
      "_________________________________________________________________\n",
      "dense_20 (Dense)             (None, 10)                110       \n",
      "_________________________________________________________________\n",
      "dense_21 (Dense)             (None, 10)                110       \n",
      "_________________________________________________________________\n",
      "dense_22 (Dense)             (None, 10)                110       \n",
      "_________________________________________________________________\n",
      "dense_23 (Dense)             (None, 10)                110       \n",
      "=================================================================\n",
      "Total params: 9,060\n",
      "Trainable params: 9,060\n",
      "Non-trainable params: 0\n",
      "_________________________________________________________________\n",
      "None\n",
      "\n",
      "\n",
      "10000/10000 [==============================] - 0s 38us/step\n",
      "\n",
      "\n",
      "Testing data Loss:  2.3\n",
      "\n",
      "Testing data Accuracy:  0.11\n"
     ]
    },
    {
     "data": {
      "image/png": "[encoded data removed]",
      "text/plain": [
       "<Figure size 432x288 with 1 Axes>"
      ]
     },
     "metadata": {
      "needs_background": "light"
     },
     "output_type": "display_data"
    }
   ],
   "source": [
    "model = Sequential()\n",
    "# first layer with input features and one hidden layer\n",
    "model.add(Dense(units = 10,\n",
    "                activation = 'sigmoid',\n",
    "                input_shape=(number_of_features, )))\n",
    "\n",
    "# add 10 hidden layers of 10 neurons\n",
    "for i in range(10):\n",
    "    model.add(Dense(units = 10,\n",
    "                    activation='sigmoid'))\n",
    "\n",
    "model.add(Dense(units = number_of_unique_outcomes,\n",
    "                activation = 'softmax'))\n",
    "print(model.summary())\n",
    "print()\n",
    "\n",
    "model.compile(optimizer=\"sgd\", \n",
    "              loss='categorical_crossentropy', \n",
    "              metrics=['accuracy'])\n",
    "\n",
    "history = model.fit(x = X_train,\n",
    "                    y = y_train,\n",
    "                    batch_size= 150,\n",
    "                    epochs=50,\n",
    "                    verbose=0,\n",
    "                    validation_split=0.1)\n",
    "\n",
    "print()\n",
    "loss, accuracy = model.evaluate(x = X_test,\n",
    "                                y = y_test)\n",
    "\n",
    "print()\n",
    "model_accuracy_plot(history)\n",
    "print()\n",
    "print('Testing data Loss: ', round(loss, 2))\n",
    "print()\n",
    "print('Testing data Accuracy: ', round(accuracy, 2))"
   ]
  },
  {
   "cell_type": "code",
   "execution_count": 33,
   "metadata": {
    "ExecuteTime": {
     "end_time": "2020-06-19T07:27:51.800533Z",
     "start_time": "2020-06-19T07:26:17.509535Z"
    }
   },
   "outputs": [
    {
     "name": "stdout",
     "output_type": "stream",
     "text": [
      "Model: \"sequential_4\"\n",
      "_________________________________________________________________\n",
      "Layer (type)                 Output Shape              Param #   \n",
      "=================================================================\n",
      "dense_35 (Dense)             (None, 250)               196250    \n",
      "_________________________________________________________________\n",
      "dense_36 (Dense)             (None, 100)               25100     \n",
      "_________________________________________________________________\n",
      "dense_37 (Dense)             (None, 90)                9090      \n",
      "_________________________________________________________________\n",
      "dense_38 (Dense)             (None, 80)                7280      \n",
      "_________________________________________________________________\n",
      "dense_39 (Dense)             (None, 70)                5670      \n",
      "_________________________________________________________________\n",
      "dense_40 (Dense)             (None, 60)                4260      \n",
      "_________________________________________________________________\n",
      "dense_41 (Dense)             (None, 50)                3050      \n",
      "_________________________________________________________________\n",
      "dense_42 (Dense)             (None, 40)                2040      \n",
      "_________________________________________________________________\n",
      "dense_43 (Dense)             (None, 30)                1230      \n",
      "_________________________________________________________________\n",
      "dense_44 (Dense)             (None, 20)                620       \n",
      "_________________________________________________________________\n",
      "dense_45 (Dense)             (None, 10)                210       \n",
      "=================================================================\n",
      "Total params: 254,800\n",
      "Trainable params: 254,800\n",
      "Non-trainable params: 0\n",
      "_________________________________________________________________\n",
      "None\n",
      "\n",
      "\n",
      "10000/10000 [==============================] - 0s 45us/step\n",
      "\n",
      "\n",
      "Testing data Loss:  2.3\n",
      "\n",
      "Testing data Accuracy:  0.11\n"
     ]
    },
    {
     "data": {
      "image/png": "[encoded data removed]",
      "text/plain": [
       "<Figure size 432x288 with 1 Axes>"
      ]
     },
     "metadata": {
      "needs_background": "light"
     },
     "output_type": "display_data"
    }
   ],
   "source": [
    "model = Sequential()\n",
    "# first layer with input features and one hidden layer\n",
    "model.add(Dense(units = 250,\n",
    "                activation = 'sigmoid',\n",
    "                input_shape=(number_of_features, )))\n",
    "\n",
    "# add 10 hidden layers of 10 neurons\n",
    "for i in range(100,10,-10):\n",
    "    model.add(Dense(units = i,\n",
    "                    activation='sigmoid'))\n",
    "\n",
    "model.add(Dense(units = number_of_unique_outcomes,\n",
    "                activation = 'softmax'))\n",
    "print(model.summary())\n",
    "print()\n",
    "\n",
    "model.compile(optimizer=\"sgd\", \n",
    "              loss='categorical_crossentropy', \n",
    "              metrics=['accuracy'])\n",
    "\n",
    "history = model.fit(x = X_train,\n",
    "                    y = y_train,\n",
    "                    batch_size= 150,\n",
    "                    epochs=50,\n",
    "                    verbose=0,\n",
    "                    validation_split=0.1)\n",
    "\n",
    "print()\n",
    "loss, accuracy = model.evaluate(x = X_test,\n",
    "                                y = y_test)\n",
    "\n",
    "print()\n",
    "model_accuracy_plot(history)\n",
    "print()\n",
    "print('Testing data Loss: ', round(loss, 2))\n",
    "print()\n",
    "print('Testing data Accuracy: ', round(accuracy, 2))"
   ]
  },
  {
   "cell_type": "markdown",
   "metadata": {},
   "source": [
    "* From the above two examples it is observed that in neural networks with many layers, the correction during back propogation may not happen, hence there is no change in training accuracy after the first epoch. Now lets change the activation function to 'relu' and check the results for exact same architecture"
   ]
  },
  {
   "cell_type": "code",
   "execution_count": 34,
   "metadata": {
    "ExecuteTime": {
     "end_time": "2020-06-19T07:31:12.229467Z",
     "start_time": "2020-06-19T07:30:33.217120Z"
    }
   },
   "outputs": [
    {
     "name": "stdout",
     "output_type": "stream",
     "text": [
      "Model: \"sequential_5\"\n",
      "_________________________________________________________________\n",
      "Layer (type)                 Output Shape              Param #   \n",
      "=================================================================\n",
      "dense_46 (Dense)             (None, 10)                7850      \n",
      "_________________________________________________________________\n",
      "dense_47 (Dense)             (None, 10)                110       \n",
      "_________________________________________________________________\n",
      "dense_48 (Dense)             (None, 10)                110       \n",
      "_________________________________________________________________\n",
      "dense_49 (Dense)             (None, 10)                110       \n",
      "_________________________________________________________________\n",
      "dense_50 (Dense)             (None, 10)                110       \n",
      "_________________________________________________________________\n",
      "dense_51 (Dense)             (None, 10)                110       \n",
      "_________________________________________________________________\n",
      "dense_52 (Dense)             (None, 10)                110       \n",
      "_________________________________________________________________\n",
      "dense_53 (Dense)             (None, 10)                110       \n",
      "_________________________________________________________________\n",
      "dense_54 (Dense)             (None, 10)                110       \n",
      "_________________________________________________________________\n",
      "dense_55 (Dense)             (None, 10)                110       \n",
      "_________________________________________________________________\n",
      "dense_56 (Dense)             (None, 10)                110       \n",
      "_________________________________________________________________\n",
      "dense_57 (Dense)             (None, 10)                110       \n",
      "=================================================================\n",
      "Total params: 9,060\n",
      "Trainable params: 9,060\n",
      "Non-trainable params: 0\n",
      "_________________________________________________________________\n",
      "None\n",
      "\n",
      "\n",
      "10000/10000 [==============================] - 0s 24us/step\n",
      "\n",
      "\n",
      "Testing data Loss:  0.3\n",
      "\n",
      "Testing data Accuracy:  0.92\n"
     ]
    },
    {
     "data": {
      "image/png": "[encoded data removed]",
      "text/plain": [
       "<Figure size 432x288 with 1 Axes>"
      ]
     },
     "metadata": {
      "needs_background": "light"
     },
     "output_type": "display_data"
    }
   ],
   "source": [
    "model = Sequential()\n",
    "# first layer with input features and one hidden layer\n",
    "model.add(Dense(units = 10,\n",
    "                activation = 'relu',\n",
    "                input_shape=(number_of_features, )))\n",
    "\n",
    "# add 10 hidden layers of 10 neurons\n",
    "for i in range(10):\n",
    "    model.add(Dense(units = 10,\n",
    "                    activation='relu'))\n",
    "\n",
    "model.add(Dense(units = number_of_unique_outcomes,\n",
    "                activation = 'softmax'))\n",
    "print(model.summary())\n",
    "print()\n",
    "\n",
    "model.compile(optimizer=\"sgd\", \n",
    "              loss='categorical_crossentropy', \n",
    "              metrics=['accuracy'])\n",
    "\n",
    "history = model.fit(x = X_train,\n",
    "                    y = y_train,\n",
    "                    batch_size= 150,\n",
    "                    epochs=50,\n",
    "                    verbose=0,\n",
    "                    validation_split=0.1)\n",
    "\n",
    "print()\n",
    "loss, accuracy = model.evaluate(x = X_test,\n",
    "                                y = y_test)\n",
    "\n",
    "print()\n",
    "model_accuracy_plot(history)\n",
    "print()\n",
    "print('Testing data Loss: ', round(loss, 2))\n",
    "print()\n",
    "print('Testing data Accuracy: ', round(accuracy, 2))"
   ]
  },
  {
   "cell_type": "code",
   "execution_count": 35,
   "metadata": {
    "ExecuteTime": {
     "end_time": "2020-06-19T07:33:24.647939Z",
     "start_time": "2020-06-19T07:31:49.017430Z"
    }
   },
   "outputs": [
    {
     "name": "stdout",
     "output_type": "stream",
     "text": [
      "Model: \"sequential_6\"\n",
      "_________________________________________________________________\n",
      "Layer (type)                 Output Shape              Param #   \n",
      "=================================================================\n",
      "dense_58 (Dense)             (None, 250)               196250    \n",
      "_________________________________________________________________\n",
      "dense_59 (Dense)             (None, 100)               25100     \n",
      "_________________________________________________________________\n",
      "dense_60 (Dense)             (None, 90)                9090      \n",
      "_________________________________________________________________\n",
      "dense_61 (Dense)             (None, 80)                7280      \n",
      "_________________________________________________________________\n",
      "dense_62 (Dense)             (None, 70)                5670      \n",
      "_________________________________________________________________\n",
      "dense_63 (Dense)             (None, 60)                4260      \n",
      "_________________________________________________________________\n",
      "dense_64 (Dense)             (None, 50)                3050      \n",
      "_________________________________________________________________\n",
      "dense_65 (Dense)             (None, 40)                2040      \n",
      "_________________________________________________________________\n",
      "dense_66 (Dense)             (None, 30)                1230      \n",
      "_________________________________________________________________\n",
      "dense_67 (Dense)             (None, 20)                620       \n",
      "_________________________________________________________________\n",
      "dense_68 (Dense)             (None, 10)                210       \n",
      "=================================================================\n",
      "Total params: 254,800\n",
      "Trainable params: 254,800\n",
      "Non-trainable params: 0\n",
      "_________________________________________________________________\n",
      "None\n",
      "\n",
      "\n",
      "10000/10000 [==============================] - 0s 44us/step\n",
      "\n",
      "\n",
      "Testing data Loss:  0.2\n",
      "\n",
      "Testing data Accuracy:  0.97\n"
     ]
    },
    {
     "data": {
      "image/png": "[encoded data removed]",
      "text/plain": [
       "<Figure size 432x288 with 1 Axes>"
      ]
     },
     "metadata": {
      "needs_background": "light"
     },
     "output_type": "display_data"
    }
   ],
   "source": [
    "model = Sequential()\n",
    "# first layer with input features and one hidden layer\n",
    "model.add(Dense(units = 250,\n",
    "                activation = 'relu',\n",
    "                input_shape=(number_of_features, )))\n",
    "\n",
    "# add 10 hidden layers of 10 neurons\n",
    "for i in range(100,10,-10):\n",
    "    model.add(Dense(units = i,\n",
    "                    activation='relu'))\n",
    "\n",
    "model.add(Dense(units = number_of_unique_outcomes,\n",
    "                activation = 'softmax'))\n",
    "print(model.summary())\n",
    "print()\n",
    "\n",
    "model.compile(optimizer=\"sgd\", \n",
    "              loss='categorical_crossentropy', \n",
    "              metrics=['accuracy'])\n",
    "\n",
    "history = model.fit(x = X_train,\n",
    "                    y = y_train,\n",
    "                    batch_size= 150,\n",
    "                    epochs=50,\n",
    "                    verbose=0,\n",
    "                    validation_split=0.1)\n",
    "\n",
    "print()\n",
    "loss, accuracy = model.evaluate(x = X_test,\n",
    "                                y = y_test)\n",
    "\n",
    "print()\n",
    "model_accuracy_plot(history)\n",
    "print()\n",
    "print('Testing data Loss: ', round(loss, 2))\n",
    "print()\n",
    "print('Testing data Accuracy: ', round(accuracy, 2))"
   ]
  },
  {
   "cell_type": "markdown",
   "metadata": {},
   "source": [
    "These results are not great, because this architecture isn't great, but changing the activation function to the Rectified Linear Unit (often called ReLU) we dramatically improved the performance of the network. This is the vanishing gradient problem rearing it's head."
   ]
  },
  {
   "cell_type": "code",
   "execution_count": 47,
   "metadata": {
    "ExecuteTime": {
     "end_time": "2020-06-19T07:54:32.289665Z",
     "start_time": "2020-06-19T07:54:32.154665Z"
    }
   },
   "outputs": [
    {
     "data": {
      "image/png": "[encoded data removed]",
      "text/plain": [
       "<Figure size 432x288 with 1 Axes>"
      ]
     },
     "metadata": {
      "needs_background": "light"
     },
     "output_type": "display_data"
    }
   ],
   "source": [
    "# This function is hard to read because we're applying it to\n",
    "# numpy arrays, but for each item in x we return max(0, x[i])\n",
    "def relu_function(x):\n",
    "    return np.maximum(x, np.zeros(len(x)))\n",
    "\n",
    "# This function is non-continuous, but the derivative can be \n",
    "# expressed as a very simple discrete function that works for\n",
    "# our purpose, if x[i] > 0 return 1, else return 0:\n",
    "def relu_derivative_function(x):\n",
    "    return np.array([1 if num > 0 else 0 for num in x])\n",
    "\n",
    "r = np.linspace(-10, 10, 100)\n",
    "plt.plot(r, relu_function(r), 'b')\n",
    "plt.plot(r, relu_derivative_function(r), 'r')\n",
    "plt.title(\"Relu function\")\n",
    "plt.legend(['relu', 'relu_derivative'])\n",
    "plt.show()"
   ]
  },
  {
   "cell_type": "markdown",
   "metadata": {},
   "source": [
    "\n",
    "\n",
    "ReLU still has a kind of vanishing gradient problem, in fact the gradient can simply be 0, and once that happens the weights attached to that node will no longer be updated at all!\n",
    "\n",
    "The simplicity of this function servers as an important reminder about neural networks and machine learning in general: fundamentally we are combining a lot of very simple things, and repeating a simple process MANY MANY times. The result is complex, but the procecss itself is built of simple parts.\n",
    "\n",
    "With that in mind, brilliant machine learning specialists came up with a simple solution to ReLU's problems. They invented a function called \"Leaky ReLU\":\n"
   ]
  },
  {
   "cell_type": "code",
   "execution_count": 49,
   "metadata": {
    "ExecuteTime": {
     "end_time": "2020-06-19T07:57:29.490389Z",
     "start_time": "2020-06-19T07:57:29.353353Z"
    }
   },
   "outputs": [
    {
     "data": {
      "image/png": "[encoded data removed]",
      "text/plain": [
       "<Figure size 432x288 with 1 Axes>"
      ]
     },
     "metadata": {
      "needs_background": "light"
     },
     "output_type": "display_data"
    }
   ],
   "source": [
    "# For values greater than 0, leaky ReLU is the same as ReLU.\n",
    "# For values less than 0, we return x[i] * 0.01 instead of just 0\n",
    "# Now the gradient cannot die, because the line always has a slope.\n",
    "def leaky_relu_function(x):\n",
    "    return np.array([num if num > 0 else num * .01 for num in x])\n",
    "\n",
    "def leaky_relu_derivative_function(x):\n",
    "    return np.array([1 if num > 0 else .01 for num in x])\n",
    "\n",
    "r = np.linspace(-10, 10, 100)\n",
    "plt.plot(r, leaky_relu_function(r), 'b')\n",
    "plt.plot(r, leaky_relu_derivative_function(r), 'r')\n",
    "plt.title(\"Leaky Relu function\")\n",
    "plt.legend(['leaky_relu', 'leaky_relu_derivative'])\n",
    "plt.show()"
   ]
  },
  {
   "cell_type": "markdown",
   "metadata": {},
   "source": [
    "* Lets compare the results of relu and leaky relu"
   ]
  },
  {
   "cell_type": "code",
   "execution_count": 52,
   "metadata": {
    "ExecuteTime": {
     "end_time": "2020-06-19T09:31:12.701123Z",
     "start_time": "2020-06-19T09:31:03.991455Z"
    }
   },
   "outputs": [
    {
     "name": "stdout",
     "output_type": "stream",
     "text": [
      "Model: \"sequential_9\"\n",
      "_________________________________________________________________\n",
      "Layer (type)                 Output Shape              Param #   \n",
      "=================================================================\n",
      "dense_83 (Dense)             (None, 10)                7850      \n",
      "_________________________________________________________________\n",
      "dense_84 (Dense)             (None, 10)                110       \n",
      "_________________________________________________________________\n",
      "leaky_re_lu_11 (LeakyReLU)   (None, 10)                0         \n",
      "_________________________________________________________________\n",
      "dense_85 (Dense)             (None, 10)                110       \n",
      "_________________________________________________________________\n",
      "leaky_re_lu_12 (LeakyReLU)   (None, 10)                0         \n",
      "_________________________________________________________________\n",
      "dense_86 (Dense)             (None, 10)                110       \n",
      "_________________________________________________________________\n",
      "leaky_re_lu_13 (LeakyReLU)   (None, 10)                0         \n",
      "_________________________________________________________________\n",
      "dense_87 (Dense)             (None, 10)                110       \n",
      "_________________________________________________________________\n",
      "leaky_re_lu_14 (LeakyReLU)   (None, 10)                0         \n",
      "_________________________________________________________________\n",
      "dense_88 (Dense)             (None, 10)                110       \n",
      "_________________________________________________________________\n",
      "leaky_re_lu_15 (LeakyReLU)   (None, 10)                0         \n",
      "_________________________________________________________________\n",
      "dense_89 (Dense)             (None, 10)                110       \n",
      "_________________________________________________________________\n",
      "leaky_re_lu_16 (LeakyReLU)   (None, 10)                0         \n",
      "_________________________________________________________________\n",
      "dense_90 (Dense)             (None, 10)                110       \n",
      "_________________________________________________________________\n",
      "leaky_re_lu_17 (LeakyReLU)   (None, 10)                0         \n",
      "_________________________________________________________________\n",
      "dense_91 (Dense)             (None, 10)                110       \n",
      "_________________________________________________________________\n",
      "leaky_re_lu_18 (LeakyReLU)   (None, 10)                0         \n",
      "_________________________________________________________________\n",
      "dense_92 (Dense)             (None, 10)                110       \n",
      "_________________________________________________________________\n",
      "leaky_re_lu_19 (LeakyReLU)   (None, 10)                0         \n",
      "_________________________________________________________________\n",
      "dense_93 (Dense)             (None, 10)                110       \n",
      "_________________________________________________________________\n",
      "leaky_re_lu_20 (LeakyReLU)   (None, 10)                0         \n",
      "_________________________________________________________________\n",
      "dense_94 (Dense)             (None, 10)                110       \n",
      "=================================================================\n",
      "Total params: 9,060\n",
      "Trainable params: 9,060\n",
      "Non-trainable params: 0\n",
      "_________________________________________________________________\n",
      "None\n",
      "Train on 54000 samples, validate on 6000 samples\n",
      "Epoch 1/10\n",
      " - 1s - loss: 1.5561 - accuracy: 0.4376 - val_loss: 0.9098 - val_accuracy: 0.6765\n",
      "Epoch 2/10\n",
      " - 1s - loss: 0.8529 - accuracy: 0.6898 - val_loss: 0.6946 - val_accuracy: 0.7528\n",
      "Epoch 3/10\n",
      " - 1s - loss: 0.7063 - accuracy: 0.7399 - val_loss: 0.9372 - val_accuracy: 0.6418\n",
      "Epoch 4/10\n",
      " - 1s - loss: 0.6465 - accuracy: 0.7585 - val_loss: 0.5890 - val_accuracy: 0.7723\n",
      "Epoch 5/10\n",
      " - 1s - loss: 0.5990 - accuracy: 0.7746 - val_loss: 0.5559 - val_accuracy: 0.7785\n",
      "Epoch 6/10\n",
      " - 1s - loss: 0.5669 - accuracy: 0.7895 - val_loss: 0.5209 - val_accuracy: 0.8047\n",
      "Epoch 7/10\n",
      " - 1s - loss: 0.5357 - accuracy: 0.8040 - val_loss: 0.4876 - val_accuracy: 0.8148\n",
      "Epoch 8/10\n",
      " - 1s - loss: 0.5252 - accuracy: 0.8134 - val_loss: 0.4630 - val_accuracy: 0.8318\n",
      "Epoch 9/10\n",
      " - 1s - loss: 0.4867 - accuracy: 0.8268 - val_loss: 0.4428 - val_accuracy: 0.8337\n",
      "Epoch 10/10\n",
      " - 1s - loss: 0.4643 - accuracy: 0.8350 - val_loss: 0.4253 - val_accuracy: 0.8488\n",
      "10000/10000 [==============================] - 0s 17us/step\n",
      "\n",
      "\n",
      "Testing data Loss:  0.45\n",
      "\n",
      "Testing data Accuracy:  0.84\n"
     ]
    },
    {
     "data": {
      "image/png": "[encoded data removed]",
      "text/plain": [
       "<Figure size 432x288 with 1 Axes>"
      ]
     },
     "metadata": {
      "needs_background": "light"
     },
     "output_type": "display_data"
    }
   ],
   "source": [
    "from keras.layers import LeakyReLU\n",
    "\n",
    "model = Sequential()\n",
    "model.add(Dense(units = 10,\n",
    "                activation = 'relu',\n",
    "                input_shape = (number_of_features, )))\n",
    "\n",
    "for i in range(10):\n",
    "    model.add(Dense(units = 10,\n",
    "              activation = 'relu'))\n",
    "    model.add(LeakyReLU(alpha = 0.01))\n",
    "    \n",
    "model.add(Dense(units = number_of_unique_outcomes,\n",
    "                activation = 'softmax'))\n",
    "\n",
    "print(model.summary())\n",
    "\n",
    "model.compile(optimizer = 'sgd',\n",
    "              loss = 'categorical_crossentropy',\n",
    "              metrics = ['accuracy'])\n",
    "\n",
    "history = model.fit(x = X_train,\n",
    "                    y = y_train,\n",
    "                    epochs = 10,\n",
    "                    batch_size = 150,\n",
    "                    verbose = 2,\n",
    "                    validation_split = 0.1)\n",
    "\n",
    "loss, accuracy = model.evaluate(x = X_test,\n",
    "                                y = y_test)\n",
    "\n",
    "print()\n",
    "model_accuracy_plot(history)\n",
    "print()\n",
    "print('Testing data Loss: ', round(loss, 2))\n",
    "print()\n",
    "print('Testing data Accuracy: ', round(accuracy, 2))"
   ]
  },
  {
   "cell_type": "markdown",
   "metadata": {},
   "source": [
    "There are other activation functions, and there is ongoing research into which ones perform best and experimenting with new activation functions.\n",
    "\n",
    "In addition to the vanishing and dying gradient problems, another factor in the performance of activation functions is how efficent they are to compute, and how efficent their derivatives are to compute. Remember that we're computing these functions billions of times (or more!) during training. Relu is VERY FAST to compute, and so is it's derivative. Sigmoid, tanh, and some other commonly used activations are more expensive.\n",
    "\n",
    "\n",
    "\n",
    "A rule of thumb: Things are changing quickly. Do some quick research before you build a new model to determine if there is a new \"activation function of the week\". Use that one. If it doesn't produce results, try a different one. Repeat until one works, or you have exhausted the activation functions that you know of. At that point, you may need to collect more data, change your architecture, or try a different kind of model.\n",
    "\n",
    "At the time of this writing, one of the most popular activation functions is the Scaled Exponential Linear Unit (SELU). This activation is another modified ReLU, where the values greater than zero are still a linear function, the values below zero are an exponential curve, and the function scales the output to avoid a problem called \"exploding gradient\" which is the opposite of a dying or vanishing gradient:\n"
   ]
  },
  {
   "cell_type": "code",
   "execution_count": 53,
   "metadata": {
    "ExecuteTime": {
     "end_time": "2020-06-19T09:36:02.042611Z",
     "start_time": "2020-06-19T09:35:03.454849Z"
    }
   },
   "outputs": [
    {
     "name": "stdout",
     "output_type": "stream",
     "text": [
      "Model: \"sequential_10\"\n",
      "_________________________________________________________________\n",
      "Layer (type)                 Output Shape              Param #   \n",
      "=================================================================\n",
      "dense_95 (Dense)             (None, 10)                7850      \n",
      "_________________________________________________________________\n",
      "dense_96 (Dense)             (None, 10)                110       \n",
      "_________________________________________________________________\n",
      "dense_97 (Dense)             (None, 10)                110       \n",
      "_________________________________________________________________\n",
      "dense_98 (Dense)             (None, 10)                110       \n",
      "_________________________________________________________________\n",
      "dense_99 (Dense)             (None, 10)                110       \n",
      "_________________________________________________________________\n",
      "dense_100 (Dense)            (None, 10)                110       \n",
      "_________________________________________________________________\n",
      "dense_101 (Dense)            (None, 10)                110       \n",
      "_________________________________________________________________\n",
      "dense_102 (Dense)            (None, 10)                110       \n",
      "_________________________________________________________________\n",
      "dense_103 (Dense)            (None, 10)                110       \n",
      "_________________________________________________________________\n",
      "dense_104 (Dense)            (None, 10)                110       \n",
      "_________________________________________________________________\n",
      "dense_105 (Dense)            (None, 10)                110       \n",
      "_________________________________________________________________\n",
      "dense_106 (Dense)            (None, 10)                110       \n",
      "=================================================================\n",
      "Total params: 9,060\n",
      "Trainable params: 9,060\n",
      "Non-trainable params: 0\n",
      "_________________________________________________________________\n",
      "None\n",
      "\n",
      "\n",
      "10000/10000 [==============================] - 0s 30us/step\n",
      "\n",
      "\n",
      "Testing data Loss:  0.36\n",
      "\n",
      "Testing data Accuracy:  0.9\n"
     ]
    },
    {
     "data": {
      "image/png": "[encoded data removed]",
      "text/plain": [
       "<Figure size 432x288 with 1 Axes>"
      ]
     },
     "metadata": {
      "needs_background": "light"
     },
     "output_type": "display_data"
    }
   ],
   "source": [
    "model = Sequential()\n",
    "# first layer with input features and one hidden layer\n",
    "model.add(Dense(units = 10,\n",
    "                activation = 'selu',\n",
    "                input_shape=(number_of_features, )))\n",
    "\n",
    "# add 10 hidden layers of 10 neurons\n",
    "for i in range(10):\n",
    "    model.add(Dense(units = 10,\n",
    "                    activation='selu'))\n",
    "\n",
    "model.add(Dense(units = number_of_unique_outcomes,\n",
    "                activation = 'softmax'))\n",
    "print(model.summary())\n",
    "print()\n",
    "\n",
    "model.compile(optimizer=\"sgd\", \n",
    "              loss='categorical_crossentropy', \n",
    "              metrics=['accuracy'])\n",
    "\n",
    "history = model.fit(x = X_train,\n",
    "                    y = y_train,\n",
    "                    batch_size= 150,\n",
    "                    epochs=50,\n",
    "                    verbose=0,\n",
    "                    validation_split=0.1)\n",
    "\n",
    "print()\n",
    "loss, accuracy = model.evaluate(x = X_test,\n",
    "                                y = y_test)\n",
    "\n",
    "print()\n",
    "model_accuracy_plot(history)\n",
    "print()\n",
    "print('Testing data Loss: ', round(loss, 2))\n",
    "print()\n",
    "print('Testing data Accuracy: ', round(accuracy, 2))"
   ]
  },
  {
   "cell_type": "markdown",
   "metadata": {},
   "source": [
    "\n",
    "## The Importance of Non-Linearity\n",
    "\n",
    "In order to satisfy the Universal Function Approximation theorem we must choose activation functions that are not strictly linear. Even ReLU counts, but if we only use linear activation functions then our neural networks, no matter how complex, can only learn to approximate linear functions themselves. See Deep Learning and Neural Network's Chapter 5 for a comprehensive proof of this.\n",
    "\n",
    "## Special Cases\n",
    "\n",
    "While many of these activation functions are \"general purpose\", especially in the hidden layers, there are a handful of important activation functions that serve special purposes. The softmax function is one such activation function that is widely used.\n",
    "\n",
    "Softmax is used to produce N output values that always sum to one. It is almost always used in the final layer of classification networks, and we interpret the results as the proababilities or confidence of our network's predictions. Read more about softmax\n"
   ]
  },
  {
   "cell_type": "code",
   "execution_count": null,
   "metadata": {},
   "outputs": [],
   "source": []
  }
 ],
 "metadata": {
  "kernelspec": {
   "display_name": "Python 3",
   "language": "python",
   "name": "python3"
  },
  "language_info": {
   "codemirror_mode": {
    "name": "ipython",
    "version": 3
   },
   "file_extension": ".py",
   "mimetype": "text/x-python",
   "name": "python",
   "nbconvert_exporter": "python",
   "pygments_lexer": "ipython3",
   "version": "3.7.6"
  },
  "varInspector": {
   "cols": {
    "lenName": 16,
    "lenType": 16,
    "lenVar": 40
   },
   "kernels_config": {
    "python": {
     "delete_cmd_postfix": "",
     "delete_cmd_prefix": "del ",
     "library": "var_list.py",
     "varRefreshCmd": "print(var_dic_list())"
    },
    "r": {
     "delete_cmd_postfix": ") ",
     "delete_cmd_prefix": "rm(",
     "library": "var_list.r",
     "varRefreshCmd": "cat(var_dic_list()) "
    }
   },
   "types_to_exclude": [
    "module",
    "function",
    "builtin_function_or_method",
    "instance",
    "_Feature"
   ],
   "window_display": false
  }
 },
 "nbformat": 4,
 "nbformat_minor": 4
}
